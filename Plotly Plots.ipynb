{
 "cells": [
  {
   "cell_type": "code",
   "execution_count": 20,
   "metadata": {},
   "outputs": [
    {
     "data": {
      "application/vnd.plotly.v1+json": {
       "config": {
        "plotlyServerURL": "https://plot.ly"
       },
       "data": [
        {
         "customdata": [
          [
           5197118,
           166026,
           1753760,
           "US"
          ],
          [
           3164785,
           104201,
           2506228,
           "Brazil"
          ],
          [
           2396637,
           47033,
           1695982,
           "India"
          ],
          [
           900745,
           15231,
           708900,
           "Russia"
          ],
          [
           568919,
           11010,
           432029,
           "South Africa"
          ],
          [
           498380,
           54666,
           401182,
           "Mexico"
          ],
          [
           489680,
           21501,
           341938,
           "Peru"
          ],
          [
           422519,
           13837,
           239785,
           "Colombia"
          ],
          [
           378168,
           10205,
           351419,
           "Chile"
          ],
          [
           333699,
           18988,
           290244,
           "Iran"
          ],
          [
           329784,
           28579,
           150376,
           "Spain"
          ],
          [
           315581,
           46791,
           1472,
           "United Kingdom"
          ],
          [
           293037,
           3269,
           257269,
           "Saudi Arabia"
          ],
          [
           285921,
           6129,
           263193,
           "Pakistan"
          ],
          [
           268574,
           5213,
           187283,
           "Argentina"
          ],
          [
           266498,
           3513,
           153089,
           "Bangladesh"
          ],
          [
           251713,
           35225,
           202697,
           "Italy"
          ],
          [
           244392,
           5891,
           227089,
           "Turkey"
          ],
          [
           244088,
           30375,
           83609,
           "France"
          ],
          [
           220859,
           9213,
           198991,
           "Germany"
          ],
          [
           160436,
           5588,
           114541,
           "Iraq"
          ],
          [
           143749,
           2404,
           68997,
           "Philippines"
          ],
          [
           130718,
           5903,
           85798,
           "Indonesia"
          ],
          [
           122703,
           9052,
           108829,
           "Canada"
          ],
          [
           113938,
           190,
           110627,
           "Qatar"
          ],
          [
           101372,
           1269,
           76756,
           "Kazakhstan"
          ],
          [
           97110,
           5984,
           78887,
           "Ecuador"
          ],
          [
           95963,
           5085,
           55901,
           "Egypt"
          ],
          [
           95071,
           3827,
           32830,
           "Bolivia"
          ],
          [
           89045,
           4697,
           82633,
           "China"
          ],
          [
           88151,
           639,
           62109,
           "Israel"
          ],
          [
           86504,
           1999,
           47084,
           "Ukraine"
          ],
          [
           83455,
           5774,
           0,
           "Sweden"
          ],
          [
           82299,
           539,
           77072,
           "Oman"
          ],
          [
           82224,
           1371,
           47095,
           "Dominican Republic"
          ],
          [
           77377,
           1703,
           51597,
           "Panama"
          ],
          [
           75647,
           9900,
           17883,
           "Belgium"
          ],
          [
           73785,
           489,
           65451,
           "Kuwait"
          ],
          [
           69102,
           595,
           65893,
           "Belarus"
          ],
          [
           65177,
           2807,
           31048,
           "Romania"
          ],
          [
           63212,
           358,
           57193,
           "United Arab Emirates"
          ],
          [
           61718,
           6182,
           253,
           "Netherlands"
          ],
          [
           59089,
           2267,
           47394,
           "Guatemala"
          ],
          [
           55395,
           27,
           50520,
           "Singapore"
          ],
          [
           53676,
           1830,
           37611,
           "Poland"
          ],
          [
           53223,
           1764,
           38940,
           "Portugal"
          ],
          [
           51288,
           1066,
           34969,
           "Japan"
          ],
          [
           48657,
           1533,
           6945,
           "Honduras"
          ],
          [
           47743,
           956,
           33943,
           "Nigeria"
          ],
          [
           45264,
           166,
           41836,
           "Bahrain"
          ],
          [
           41572,
           223,
           39320,
           "Ghana"
          ],
          [
           40794,
           806,
           33492,
           "Armenia"
          ],
          [
           40759,
           1484,
           32997,
           "Kyrgyzstan"
          ],
          [
           37345,
           1354,
           26694,
           "Afghanistan"
          ],
          [
           37169,
           1991,
           32700,
           "Switzerland"
          ],
          [
           36699,
           1333,
           25627,
           "Algeria"
          ],
          [
           36694,
           556,
           25677,
           "Morocco"
          ],
          [
           33824,
           497,
           31058,
           "Azerbaijan"
          ],
          [
           32654,
           211,
           25659,
           "Uzbekistan"
          ],
          [
           29088,
           247,
           21042,
           "Venezuela"
          ],
          [
           28751,
           658,
           0,
           "Serbia"
          ],
          [
           28697,
           863,
           19998,
           "Moldova"
          ],
          [
           28104,
           456,
           14610,
           "Kenya"
          ],
          [
           26838,
           1774,
           23364,
           "Ireland"
          ],
          [
           25118,
           463,
           11034,
           "Ethiopia"
          ],
          [
           25057,
           263,
           8189,
           "Costa Rica"
          ],
          [
           24432,
           91,
           16728,
           "Nepal"
          ],
          [
           22439,
           724,
           20268,
           "Austria"
          ],
          [
           22358,
           361,
           12779,
           "Australia"
          ],
          [
           21644,
           577,
           10056,
           "El Salvador"
          ],
          [
           19075,
           391,
           13407,
           "Czechia"
          ],
          [
           18263,
           401,
           15320,
           "Cameroon"
          ],
          [
           16847,
           105,
           13321,
           "Cote d'Ivoire"
          ],
          [
           15423,
           621,
           13305,
           "Denmark"
          ],
          [
           15184,
           105,
           8369,
           "West Bank and Gaza"
          ],
          [
           14961,
           453,
           8827,
           "Bosnia and Herzegovina"
          ],
          [
           14770,
           305,
           13817,
           "Korea, South"
          ],
          [
           13893,
           482,
           8479,
           "Bulgaria"
          ],
          [
           13397,
           156,
           11529,
           "Madagascar"
          ],
          [
           12217,
           530,
           8487,
           "North Macedonia"
          ],
          [
           12033,
           786,
           6282,
           "Sudan"
          ],
          [
           11587,
           242,
           7523,
           "Senegal"
          ],
          [
           10419,
           341,
           6058,
           "Kosovo"
          ],
          [
           9783,
           256,
           8857,
           "Norway"
          ],
          [
           9538,
           225,
           8421,
           "Congo (Kinshasa)"
          ],
          [
           9114,
           125,
           8817,
           "Malaysia"
          ],
          [
           8501,
           246,
           7233,
           "Zambia"
          ],
          [
           8116,
           50,
           7060,
           "Guinea"
          ],
          [
           8077,
           51,
           5920,
           "Gabon"
          ],
          [
           8018,
           93,
           5384,
           "Paraguay"
          ],
          [
           7912,
           63,
           6696,
           "Tajikistan"
          ],
          [
           7743,
           187,
           5123,
           "Haiti"
          ],
          [
           7642,
           333,
           7050,
           "Finland"
          ],
          [
           7413,
           89,
           2407,
           "Lebanon"
          ],
          [
           7300,
           122,
           6262,
           "Luxembourg"
          ],
          [
           6817,
           208,
           3552,
           "Albania"
          ],
          [
           6622,
           157,
           5741,
           "Mauritania"
          ],
          [
           6611,
           132,
           778,
           "Libya"
          ],
          [
           6177,
           216,
           1347,
           "Greece"
          ],
          [
           5870,
           160,
           5024,
           "Croatia"
          ],
          [
           5366,
           21,
           2884,
           "Maldives"
          ],
          [
           5358,
           59,
           5150,
           "Djibouti"
          ],
          [
           4893,
           122,
           1620,
           "Zimbabwe"
          ],
          [
           4821,
           83,
           2182,
           "Equatorial Guinea"
          ],
          [
           4768,
           605,
           3529,
           "Hungary"
          ],
          [
           4752,
           152,
           2529,
           "Malawi"
          ],
          [
           4652,
           61,
           1728,
           "Central African Republic"
          ],
          [
           4115,
           128,
           2913,
           "Nicaragua"
          ],
          [
           3813,
           73,
           2638,
           "Montenegro"
          ],
          [
           3745,
           60,
           1625,
           "Congo (Brazzaville)"
          ],
          [
           3525,
           63,
           1910,
           "Eswatini"
          ],
          [
           3406,
           22,
           835,
           "Namibia"
          ],
          [
           3356,
           58,
           3169,
           "Thailand"
          ],
          [
           3227,
           93,
           1728,
           "Somalia"
          ],
          [
           3128,
           88,
           2504,
           "Cuba"
          ],
          [
           3000,
           33,
           2172,
           "Cabo Verde"
          ],
          [
           2881,
           11,
           2638,
           "Sri Lanka"
          ],
          [
           2690,
           31,
           1884,
           "Slovakia"
          ],
          [
           2653,
           39,
           1789,
           "Suriname"
          ],
          [
           2582,
           125,
           1977,
           "Mali"
          ],
          [
           2559,
           19,
           951,
           "Mozambique"
          ],
          [
           2477,
           47,
           1175,
           "South Sudan"
          ],
          [
           2309,
           81,
           1683,
           "Lithuania"
          ],
          [
           2303,
           129,
           1960,
           "Slovenia"
          ],
          [
           2189,
           8,
           1524,
           "Rwanda"
          ],
          [
           2174,
           63,
           1975,
           "Estonia"
          ],
          [
           2088,
           29,
           1015,
           "Guinea-Bissau"
          ],
          [
           2014,
           38,
           1681,
           "Benin"
          ],
          [
           1972,
           10,
           1847,
           "Iceland"
          ],
          [
           1937,
           69,
           1483,
           "Sierra Leone"
          ],
          [
           1841,
           528,
           937,
           "Yemen"
          ],
          [
           1780,
           52,
           1278,
           "Tunisia"
          ],
          [
           1762,
           80,
           577,
           "Angola"
          ],
          [
           1589,
           22,
           1531,
           "New Zealand"
          ],
          [
           1477,
           33,
           247,
           "Gambia"
          ],
          [
           1393,
           37,
           1163,
           "Uruguay"
          ],
          [
           1332,
           9,
           1139,
           "Uganda"
          ],
          [
           1327,
           53,
           385,
           "Syria"
          ],
          [
           1303,
           32,
           1078,
           "Latvia"
          ],
          [
           1303,
           11,
           1215,
           "Jordan"
          ],
          [
           1291,
           20,
           870,
           "Cyprus"
          ],
          [
           1278,
           17,
           1058,
           "Georgia"
          ],
          [
           1252,
           82,
           738,
           "Liberia"
          ],
          [
           1213,
           54,
           995,
           "Burkina Faso"
          ],
          [
           1190,
           9,
           695,
           "Malta"
          ],
          [
           1161,
           69,
           1075,
           "Niger"
          ],
          [
           1092,
           26,
           782,
           "Togo"
          ],
          [
           1066,
           2,
           80,
           "Botswana"
          ],
          [
           1065,
           14,
           753,
           "Jamaica"
          ],
          [
           1036,
           15,
           122,
           "Bahamas"
          ],
          [
           977,
           53,
           855,
           "Andorra"
          ],
          [
           949,
           76,
           859,
           "Chad"
          ],
          [
           883,
           18,
           409,
           "Vietnam"
          ],
          [
           882,
           15,
           807,
           "Sao Tome and Principe"
          ],
          [
           798,
           24,
           175,
           "Lesotho"
          ],
          [
           712,
           13,
           651,
           "Diamond Princess"
          ],
          [
           699,
           42,
           657,
           "San Marino"
          ],
          [
           623,
           22,
           191,
           "Guyana"
          ],
          [
           509,
           21,
           183,
           "Tanzania"
          ],
          [
           481,
           7,
           450,
           "Taiwan*"
          ],
          [
           409,
           1,
           315,
           "Burundi"
          ],
          [
           399,
           7,
           379,
           "Comoros"
          ],
          [
           361,
           6,
           318,
           "Burma"
          ],
          [
           344,
           10,
           334,
           "Mauritius"
          ],
          [
           326,
           8,
           139,
           "Trinidad and Tobago"
          ],
          [
           297,
           0,
           269,
           "Mongolia"
          ],
          [
           287,
           3,
           78,
           "Papua New Guinea"
          ],
          [
           285,
           0,
           248,
           "Eritrea"
          ],
          [
           272,
           0,
           223,
           "Cambodia"
          ],
          [
           210,
           2,
           32,
           "Belize"
          ],
          [
           144,
           7,
           115,
           "Barbados"
          ],
          [
           142,
           3,
           138,
           "Brunei"
          ],
          [
           141,
           4,
           114,
           "Monaco"
          ],
          [
           127,
           0,
           126,
           "Seychelles"
          ],
          [
           113,
           0,
           97,
           "Bhutan"
          ],
          [
           92,
           3,
           76,
           "Antigua and Barbuda"
          ],
          [
           90,
           1,
           87,
           "Liechtenstein"
          ],
          [
           57,
           0,
           52,
           "Saint Vincent and the Grenadines"
          ],
          [
           27,
           1,
           18,
           "Fiji"
          ],
          [
           25,
           0,
           25,
           "Saint Lucia"
          ],
          [
           25,
           0,
           24,
           "Timor-Leste"
          ],
          [
           24,
           0,
           23,
           "Grenada"
          ],
          [
           20,
           0,
           19,
           "Laos"
          ],
          [
           18,
           0,
           18,
           "Dominica"
          ],
          [
           17,
           0,
           17,
           "Saint Kitts and Nevis"
          ],
          [
           12,
           0,
           12,
           "Holy See"
          ],
          [
           10,
           1,
           8,
           "Western Sahara"
          ],
          [
           9,
           2,
           0,
           "MS Zaandam"
          ]
         ],
         "geo": "geo",
         "hovertemplate": "<b>%{hovertext}</b><br><br>Confirmed=%{marker.color:,2f}<br>Deaths=%{customdata[1]:,2f}<br>Recovered=%{customdata[2]:,2f}<extra></extra>",
         "hovertext": [
          "US",
          "Brazil",
          "India",
          "Russia",
          "South Africa",
          "Mexico",
          "Peru",
          "Colombia",
          "Chile",
          "Iran",
          "Spain",
          "United Kingdom",
          "Saudi Arabia",
          "Pakistan",
          "Argentina",
          "Bangladesh",
          "Italy",
          "Turkey",
          "France",
          "Germany",
          "Iraq",
          "Philippines",
          "Indonesia",
          "Canada",
          "Qatar",
          "Kazakhstan",
          "Ecuador",
          "Egypt",
          "Bolivia",
          "China",
          "Israel",
          "Ukraine",
          "Sweden",
          "Oman",
          "Dominican Republic",
          "Panama",
          "Belgium",
          "Kuwait",
          "Belarus",
          "Romania",
          "United Arab Emirates",
          "Netherlands",
          "Guatemala",
          "Singapore",
          "Poland",
          "Portugal",
          "Japan",
          "Honduras",
          "Nigeria",
          "Bahrain",
          "Ghana",
          "Armenia",
          "Kyrgyzstan",
          "Afghanistan",
          "Switzerland",
          "Algeria",
          "Morocco",
          "Azerbaijan",
          "Uzbekistan",
          "Venezuela",
          "Serbia",
          "Moldova",
          "Kenya",
          "Ireland",
          "Ethiopia",
          "Costa Rica",
          "Nepal",
          "Austria",
          "Australia",
          "El Salvador",
          "Czechia",
          "Cameroon",
          "Cote d'Ivoire",
          "Denmark",
          "West Bank and Gaza",
          "Bosnia and Herzegovina",
          "Korea, South",
          "Bulgaria",
          "Madagascar",
          "North Macedonia",
          "Sudan",
          "Senegal",
          "Kosovo",
          "Norway",
          "Congo (Kinshasa)",
          "Malaysia",
          "Zambia",
          "Guinea",
          "Gabon",
          "Paraguay",
          "Tajikistan",
          "Haiti",
          "Finland",
          "Lebanon",
          "Luxembourg",
          "Albania",
          "Mauritania",
          "Libya",
          "Greece",
          "Croatia",
          "Maldives",
          "Djibouti",
          "Zimbabwe",
          "Equatorial Guinea",
          "Hungary",
          "Malawi",
          "Central African Republic",
          "Nicaragua",
          "Montenegro",
          "Congo (Brazzaville)",
          "Eswatini",
          "Namibia",
          "Thailand",
          "Somalia",
          "Cuba",
          "Cabo Verde",
          "Sri Lanka",
          "Slovakia",
          "Suriname",
          "Mali",
          "Mozambique",
          "South Sudan",
          "Lithuania",
          "Slovenia",
          "Rwanda",
          "Estonia",
          "Guinea-Bissau",
          "Benin",
          "Iceland",
          "Sierra Leone",
          "Yemen",
          "Tunisia",
          "Angola",
          "New Zealand",
          "Gambia",
          "Uruguay",
          "Uganda",
          "Syria",
          "Latvia",
          "Jordan",
          "Cyprus",
          "Georgia",
          "Liberia",
          "Burkina Faso",
          "Malta",
          "Niger",
          "Togo",
          "Botswana",
          "Jamaica",
          "Bahamas",
          "Andorra",
          "Chad",
          "Vietnam",
          "Sao Tome and Principe",
          "Lesotho",
          "Diamond Princess",
          "San Marino",
          "Guyana",
          "Tanzania",
          "Taiwan*",
          "Burundi",
          "Comoros",
          "Burma",
          "Mauritius",
          "Trinidad and Tobago",
          "Mongolia",
          "Papua New Guinea",
          "Eritrea",
          "Cambodia",
          "Belize",
          "Barbados",
          "Brunei",
          "Monaco",
          "Seychelles",
          "Bhutan",
          "Antigua and Barbuda",
          "Liechtenstein",
          "Saint Vincent and the Grenadines",
          "Fiji",
          "Saint Lucia",
          "Timor-Leste",
          "Grenada",
          "Laos",
          "Dominica",
          "Saint Kitts and Nevis",
          "Holy See",
          "Western Sahara",
          "MS Zaandam"
         ],
         "legendgroup": "",
         "locationmode": "country names",
         "locations": [
          "US",
          "Brazil",
          "India",
          "Russia",
          "South Africa",
          "Mexico",
          "Peru",
          "Colombia",
          "Chile",
          "Iran",
          "Spain",
          "United Kingdom",
          "Saudi Arabia",
          "Pakistan",
          "Argentina",
          "Bangladesh",
          "Italy",
          "Turkey",
          "France",
          "Germany",
          "Iraq",
          "Philippines",
          "Indonesia",
          "Canada",
          "Qatar",
          "Kazakhstan",
          "Ecuador",
          "Egypt",
          "Bolivia",
          "China",
          "Israel",
          "Ukraine",
          "Sweden",
          "Oman",
          "Dominican Republic",
          "Panama",
          "Belgium",
          "Kuwait",
          "Belarus",
          "Romania",
          "United Arab Emirates",
          "Netherlands",
          "Guatemala",
          "Singapore",
          "Poland",
          "Portugal",
          "Japan",
          "Honduras",
          "Nigeria",
          "Bahrain",
          "Ghana",
          "Armenia",
          "Kyrgyzstan",
          "Afghanistan",
          "Switzerland",
          "Algeria",
          "Morocco",
          "Azerbaijan",
          "Uzbekistan",
          "Venezuela",
          "Serbia",
          "Moldova",
          "Kenya",
          "Ireland",
          "Ethiopia",
          "Costa Rica",
          "Nepal",
          "Austria",
          "Australia",
          "El Salvador",
          "Czechia",
          "Cameroon",
          "Cote d'Ivoire",
          "Denmark",
          "West Bank and Gaza",
          "Bosnia and Herzegovina",
          "Korea, South",
          "Bulgaria",
          "Madagascar",
          "North Macedonia",
          "Sudan",
          "Senegal",
          "Kosovo",
          "Norway",
          "Congo (Kinshasa)",
          "Malaysia",
          "Zambia",
          "Guinea",
          "Gabon",
          "Paraguay",
          "Tajikistan",
          "Haiti",
          "Finland",
          "Lebanon",
          "Luxembourg",
          "Albania",
          "Mauritania",
          "Libya",
          "Greece",
          "Croatia",
          "Maldives",
          "Djibouti",
          "Zimbabwe",
          "Equatorial Guinea",
          "Hungary",
          "Malawi",
          "Central African Republic",
          "Nicaragua",
          "Montenegro",
          "Congo (Brazzaville)",
          "Eswatini",
          "Namibia",
          "Thailand",
          "Somalia",
          "Cuba",
          "Cabo Verde",
          "Sri Lanka",
          "Slovakia",
          "Suriname",
          "Mali",
          "Mozambique",
          "South Sudan",
          "Lithuania",
          "Slovenia",
          "Rwanda",
          "Estonia",
          "Guinea-Bissau",
          "Benin",
          "Iceland",
          "Sierra Leone",
          "Yemen",
          "Tunisia",
          "Angola",
          "New Zealand",
          "Gambia",
          "Uruguay",
          "Uganda",
          "Syria",
          "Latvia",
          "Jordan",
          "Cyprus",
          "Georgia",
          "Liberia",
          "Burkina Faso",
          "Malta",
          "Niger",
          "Togo",
          "Botswana",
          "Jamaica",
          "Bahamas",
          "Andorra",
          "Chad",
          "Vietnam",
          "Sao Tome and Principe",
          "Lesotho",
          "Diamond Princess",
          "San Marino",
          "Guyana",
          "Tanzania",
          "Taiwan*",
          "Burundi",
          "Comoros",
          "Burma",
          "Mauritius",
          "Trinidad and Tobago",
          "Mongolia",
          "Papua New Guinea",
          "Eritrea",
          "Cambodia",
          "Belize",
          "Barbados",
          "Brunei",
          "Monaco",
          "Seychelles",
          "Bhutan",
          "Antigua and Barbuda",
          "Liechtenstein",
          "Saint Vincent and the Grenadines",
          "Fiji",
          "Saint Lucia",
          "Timor-Leste",
          "Grenada",
          "Laos",
          "Dominica",
          "Saint Kitts and Nevis",
          "Holy See",
          "Western Sahara",
          "MS Zaandam"
         ],
         "marker": {
          "color": [
           5197118,
           3164785,
           2396637,
           900745,
           568919,
           498380,
           489680,
           422519,
           378168,
           333699,
           329784,
           315581,
           293037,
           285921,
           268574,
           266498,
           251713,
           244392,
           244088,
           220859,
           160436,
           143749,
           130718,
           122703,
           113938,
           101372,
           97110,
           95963,
           95071,
           89045,
           88151,
           86504,
           83455,
           82299,
           82224,
           77377,
           75647,
           73785,
           69102,
           65177,
           63212,
           61718,
           59089,
           55395,
           53676,
           53223,
           51288,
           48657,
           47743,
           45264,
           41572,
           40794,
           40759,
           37345,
           37169,
           36699,
           36694,
           33824,
           32654,
           29088,
           28751,
           28697,
           28104,
           26838,
           25118,
           25057,
           24432,
           22439,
           22358,
           21644,
           19075,
           18263,
           16847,
           15423,
           15184,
           14961,
           14770,
           13893,
           13397,
           12217,
           12033,
           11587,
           10419,
           9783,
           9538,
           9114,
           8501,
           8116,
           8077,
           8018,
           7912,
           7743,
           7642,
           7413,
           7300,
           6817,
           6622,
           6611,
           6177,
           5870,
           5366,
           5358,
           4893,
           4821,
           4768,
           4752,
           4652,
           4115,
           3813,
           3745,
           3525,
           3406,
           3356,
           3227,
           3128,
           3000,
           2881,
           2690,
           2653,
           2582,
           2559,
           2477,
           2309,
           2303,
           2189,
           2174,
           2088,
           2014,
           1972,
           1937,
           1841,
           1780,
           1762,
           1589,
           1477,
           1393,
           1332,
           1327,
           1303,
           1303,
           1291,
           1278,
           1252,
           1213,
           1190,
           1161,
           1092,
           1066,
           1065,
           1036,
           977,
           949,
           883,
           882,
           798,
           712,
           699,
           623,
           509,
           481,
           409,
           399,
           361,
           344,
           326,
           297,
           287,
           285,
           272,
           210,
           144,
           142,
           141,
           127,
           113,
           92,
           90,
           57,
           27,
           25,
           25,
           24,
           20,
           18,
           17,
           12,
           10,
           9
          ],
          "coloraxis": "coloraxis",
          "size": [
           5197118,
           3164785,
           2396637,
           900745,
           568919,
           498380,
           489680,
           422519,
           378168,
           333699,
           329784,
           315581,
           293037,
           285921,
           268574,
           266498,
           251713,
           244392,
           244088,
           220859,
           160436,
           143749,
           130718,
           122703,
           113938,
           101372,
           97110,
           95963,
           95071,
           89045,
           88151,
           86504,
           83455,
           82299,
           82224,
           77377,
           75647,
           73785,
           69102,
           65177,
           63212,
           61718,
           59089,
           55395,
           53676,
           53223,
           51288,
           48657,
           47743,
           45264,
           41572,
           40794,
           40759,
           37345,
           37169,
           36699,
           36694,
           33824,
           32654,
           29088,
           28751,
           28697,
           28104,
           26838,
           25118,
           25057,
           24432,
           22439,
           22358,
           21644,
           19075,
           18263,
           16847,
           15423,
           15184,
           14961,
           14770,
           13893,
           13397,
           12217,
           12033,
           11587,
           10419,
           9783,
           9538,
           9114,
           8501,
           8116,
           8077,
           8018,
           7912,
           7743,
           7642,
           7413,
           7300,
           6817,
           6622,
           6611,
           6177,
           5870,
           5366,
           5358,
           4893,
           4821,
           4768,
           4752,
           4652,
           4115,
           3813,
           3745,
           3525,
           3406,
           3356,
           3227,
           3128,
           3000,
           2881,
           2690,
           2653,
           2582,
           2559,
           2477,
           2309,
           2303,
           2189,
           2174,
           2088,
           2014,
           1972,
           1937,
           1841,
           1780,
           1762,
           1589,
           1477,
           1393,
           1332,
           1327,
           1303,
           1303,
           1291,
           1278,
           1252,
           1213,
           1190,
           1161,
           1092,
           1066,
           1065,
           1036,
           977,
           949,
           883,
           882,
           798,
           712,
           699,
           623,
           509,
           481,
           409,
           399,
           361,
           344,
           326,
           297,
           287,
           285,
           272,
           210,
           144,
           142,
           141,
           127,
           113,
           92,
           90,
           57,
           27,
           25,
           25,
           24,
           20,
           18,
           17,
           12,
           10,
           9
          ],
          "sizemode": "area",
          "sizeref": 3248.19875
         },
         "name": "",
         "showlegend": false,
         "type": "scattergeo"
        }
       ],
       "layout": {
        "coloraxis": {
         "colorbar": {
          "title": {
           "text": "Confirmed"
          }
         },
         "colorscale": [
          [
           0,
           "#0d0887"
          ],
          [
           0.1111111111111111,
           "#46039f"
          ],
          [
           0.2222222222222222,
           "#7201a8"
          ],
          [
           0.3333333333333333,
           "#9c179e"
          ],
          [
           0.4444444444444444,
           "#bd3786"
          ],
          [
           0.5555555555555556,
           "#d8576b"
          ],
          [
           0.6666666666666666,
           "#ed7953"
          ],
          [
           0.7777777777777778,
           "#fb9f3a"
          ],
          [
           0.8888888888888888,
           "#fdca26"
          ],
          [
           1,
           "#f0f921"
          ]
         ]
        },
        "geo": {
         "center": {},
         "domain": {
          "x": [
           0,
           1
          ],
          "y": [
           0,
           1
          ]
         }
        },
        "legend": {
         "itemsizing": "constant",
         "tracegroupgap": 0
        },
        "margin": {
         "t": 60
        },
        "template": {
         "data": {
          "bar": [
           {
            "error_x": {
             "color": "#f2f5fa"
            },
            "error_y": {
             "color": "#f2f5fa"
            },
            "marker": {
             "line": {
              "color": "rgb(17,17,17)",
              "width": 0.5
             }
            },
            "type": "bar"
           }
          ],
          "barpolar": [
           {
            "marker": {
             "line": {
              "color": "rgb(17,17,17)",
              "width": 0.5
             }
            },
            "type": "barpolar"
           }
          ],
          "carpet": [
           {
            "aaxis": {
             "endlinecolor": "#A2B1C6",
             "gridcolor": "#506784",
             "linecolor": "#506784",
             "minorgridcolor": "#506784",
             "startlinecolor": "#A2B1C6"
            },
            "baxis": {
             "endlinecolor": "#A2B1C6",
             "gridcolor": "#506784",
             "linecolor": "#506784",
             "minorgridcolor": "#506784",
             "startlinecolor": "#A2B1C6"
            },
            "type": "carpet"
           }
          ],
          "choropleth": [
           {
            "colorbar": {
             "outlinewidth": 0,
             "ticks": ""
            },
            "type": "choropleth"
           }
          ],
          "contour": [
           {
            "colorbar": {
             "outlinewidth": 0,
             "ticks": ""
            },
            "colorscale": [
             [
              0,
              "#0d0887"
             ],
             [
              0.1111111111111111,
              "#46039f"
             ],
             [
              0.2222222222222222,
              "#7201a8"
             ],
             [
              0.3333333333333333,
              "#9c179e"
             ],
             [
              0.4444444444444444,
              "#bd3786"
             ],
             [
              0.5555555555555556,
              "#d8576b"
             ],
             [
              0.6666666666666666,
              "#ed7953"
             ],
             [
              0.7777777777777778,
              "#fb9f3a"
             ],
             [
              0.8888888888888888,
              "#fdca26"
             ],
             [
              1,
              "#f0f921"
             ]
            ],
            "type": "contour"
           }
          ],
          "contourcarpet": [
           {
            "colorbar": {
             "outlinewidth": 0,
             "ticks": ""
            },
            "type": "contourcarpet"
           }
          ],
          "heatmap": [
           {
            "colorbar": {
             "outlinewidth": 0,
             "ticks": ""
            },
            "colorscale": [
             [
              0,
              "#0d0887"
             ],
             [
              0.1111111111111111,
              "#46039f"
             ],
             [
              0.2222222222222222,
              "#7201a8"
             ],
             [
              0.3333333333333333,
              "#9c179e"
             ],
             [
              0.4444444444444444,
              "#bd3786"
             ],
             [
              0.5555555555555556,
              "#d8576b"
             ],
             [
              0.6666666666666666,
              "#ed7953"
             ],
             [
              0.7777777777777778,
              "#fb9f3a"
             ],
             [
              0.8888888888888888,
              "#fdca26"
             ],
             [
              1,
              "#f0f921"
             ]
            ],
            "type": "heatmap"
           }
          ],
          "heatmapgl": [
           {
            "colorbar": {
             "outlinewidth": 0,
             "ticks": ""
            },
            "colorscale": [
             [
              0,
              "#0d0887"
             ],
             [
              0.1111111111111111,
              "#46039f"
             ],
             [
              0.2222222222222222,
              "#7201a8"
             ],
             [
              0.3333333333333333,
              "#9c179e"
             ],
             [
              0.4444444444444444,
              "#bd3786"
             ],
             [
              0.5555555555555556,
              "#d8576b"
             ],
             [
              0.6666666666666666,
              "#ed7953"
             ],
             [
              0.7777777777777778,
              "#fb9f3a"
             ],
             [
              0.8888888888888888,
              "#fdca26"
             ],
             [
              1,
              "#f0f921"
             ]
            ],
            "type": "heatmapgl"
           }
          ],
          "histogram": [
           {
            "marker": {
             "colorbar": {
              "outlinewidth": 0,
              "ticks": ""
             }
            },
            "type": "histogram"
           }
          ],
          "histogram2d": [
           {
            "colorbar": {
             "outlinewidth": 0,
             "ticks": ""
            },
            "colorscale": [
             [
              0,
              "#0d0887"
             ],
             [
              0.1111111111111111,
              "#46039f"
             ],
             [
              0.2222222222222222,
              "#7201a8"
             ],
             [
              0.3333333333333333,
              "#9c179e"
             ],
             [
              0.4444444444444444,
              "#bd3786"
             ],
             [
              0.5555555555555556,
              "#d8576b"
             ],
             [
              0.6666666666666666,
              "#ed7953"
             ],
             [
              0.7777777777777778,
              "#fb9f3a"
             ],
             [
              0.8888888888888888,
              "#fdca26"
             ],
             [
              1,
              "#f0f921"
             ]
            ],
            "type": "histogram2d"
           }
          ],
          "histogram2dcontour": [
           {
            "colorbar": {
             "outlinewidth": 0,
             "ticks": ""
            },
            "colorscale": [
             [
              0,
              "#0d0887"
             ],
             [
              0.1111111111111111,
              "#46039f"
             ],
             [
              0.2222222222222222,
              "#7201a8"
             ],
             [
              0.3333333333333333,
              "#9c179e"
             ],
             [
              0.4444444444444444,
              "#bd3786"
             ],
             [
              0.5555555555555556,
              "#d8576b"
             ],
             [
              0.6666666666666666,
              "#ed7953"
             ],
             [
              0.7777777777777778,
              "#fb9f3a"
             ],
             [
              0.8888888888888888,
              "#fdca26"
             ],
             [
              1,
              "#f0f921"
             ]
            ],
            "type": "histogram2dcontour"
           }
          ],
          "mesh3d": [
           {
            "colorbar": {
             "outlinewidth": 0,
             "ticks": ""
            },
            "type": "mesh3d"
           }
          ],
          "parcoords": [
           {
            "line": {
             "colorbar": {
              "outlinewidth": 0,
              "ticks": ""
             }
            },
            "type": "parcoords"
           }
          ],
          "pie": [
           {
            "automargin": true,
            "type": "pie"
           }
          ],
          "scatter": [
           {
            "marker": {
             "line": {
              "color": "#283442"
             }
            },
            "type": "scatter"
           }
          ],
          "scatter3d": [
           {
            "line": {
             "colorbar": {
              "outlinewidth": 0,
              "ticks": ""
             }
            },
            "marker": {
             "colorbar": {
              "outlinewidth": 0,
              "ticks": ""
             }
            },
            "type": "scatter3d"
           }
          ],
          "scattercarpet": [
           {
            "marker": {
             "colorbar": {
              "outlinewidth": 0,
              "ticks": ""
             }
            },
            "type": "scattercarpet"
           }
          ],
          "scattergeo": [
           {
            "marker": {
             "colorbar": {
              "outlinewidth": 0,
              "ticks": ""
             }
            },
            "type": "scattergeo"
           }
          ],
          "scattergl": [
           {
            "marker": {
             "line": {
              "color": "#283442"
             }
            },
            "type": "scattergl"
           }
          ],
          "scattermapbox": [
           {
            "marker": {
             "colorbar": {
              "outlinewidth": 0,
              "ticks": ""
             }
            },
            "type": "scattermapbox"
           }
          ],
          "scatterpolar": [
           {
            "marker": {
             "colorbar": {
              "outlinewidth": 0,
              "ticks": ""
             }
            },
            "type": "scatterpolar"
           }
          ],
          "scatterpolargl": [
           {
            "marker": {
             "colorbar": {
              "outlinewidth": 0,
              "ticks": ""
             }
            },
            "type": "scatterpolargl"
           }
          ],
          "scatterternary": [
           {
            "marker": {
             "colorbar": {
              "outlinewidth": 0,
              "ticks": ""
             }
            },
            "type": "scatterternary"
           }
          ],
          "surface": [
           {
            "colorbar": {
             "outlinewidth": 0,
             "ticks": ""
            },
            "colorscale": [
             [
              0,
              "#0d0887"
             ],
             [
              0.1111111111111111,
              "#46039f"
             ],
             [
              0.2222222222222222,
              "#7201a8"
             ],
             [
              0.3333333333333333,
              "#9c179e"
             ],
             [
              0.4444444444444444,
              "#bd3786"
             ],
             [
              0.5555555555555556,
              "#d8576b"
             ],
             [
              0.6666666666666666,
              "#ed7953"
             ],
             [
              0.7777777777777778,
              "#fb9f3a"
             ],
             [
              0.8888888888888888,
              "#fdca26"
             ],
             [
              1,
              "#f0f921"
             ]
            ],
            "type": "surface"
           }
          ],
          "table": [
           {
            "cells": {
             "fill": {
              "color": "#506784"
             },
             "line": {
              "color": "rgb(17,17,17)"
             }
            },
            "header": {
             "fill": {
              "color": "#2a3f5f"
             },
             "line": {
              "color": "rgb(17,17,17)"
             }
            },
            "type": "table"
           }
          ]
         },
         "layout": {
          "annotationdefaults": {
           "arrowcolor": "#f2f5fa",
           "arrowhead": 0,
           "arrowwidth": 1
          },
          "coloraxis": {
           "colorbar": {
            "outlinewidth": 0,
            "ticks": ""
           }
          },
          "colorscale": {
           "diverging": [
            [
             0,
             "#8e0152"
            ],
            [
             0.1,
             "#c51b7d"
            ],
            [
             0.2,
             "#de77ae"
            ],
            [
             0.3,
             "#f1b6da"
            ],
            [
             0.4,
             "#fde0ef"
            ],
            [
             0.5,
             "#f7f7f7"
            ],
            [
             0.6,
             "#e6f5d0"
            ],
            [
             0.7,
             "#b8e186"
            ],
            [
             0.8,
             "#7fbc41"
            ],
            [
             0.9,
             "#4d9221"
            ],
            [
             1,
             "#276419"
            ]
           ],
           "sequential": [
            [
             0,
             "#0d0887"
            ],
            [
             0.1111111111111111,
             "#46039f"
            ],
            [
             0.2222222222222222,
             "#7201a8"
            ],
            [
             0.3333333333333333,
             "#9c179e"
            ],
            [
             0.4444444444444444,
             "#bd3786"
            ],
            [
             0.5555555555555556,
             "#d8576b"
            ],
            [
             0.6666666666666666,
             "#ed7953"
            ],
            [
             0.7777777777777778,
             "#fb9f3a"
            ],
            [
             0.8888888888888888,
             "#fdca26"
            ],
            [
             1,
             "#f0f921"
            ]
           ],
           "sequentialminus": [
            [
             0,
             "#0d0887"
            ],
            [
             0.1111111111111111,
             "#46039f"
            ],
            [
             0.2222222222222222,
             "#7201a8"
            ],
            [
             0.3333333333333333,
             "#9c179e"
            ],
            [
             0.4444444444444444,
             "#bd3786"
            ],
            [
             0.5555555555555556,
             "#d8576b"
            ],
            [
             0.6666666666666666,
             "#ed7953"
            ],
            [
             0.7777777777777778,
             "#fb9f3a"
            ],
            [
             0.8888888888888888,
             "#fdca26"
            ],
            [
             1,
             "#f0f921"
            ]
           ]
          },
          "colorway": [
           "#636efa",
           "#EF553B",
           "#00cc96",
           "#ab63fa",
           "#FFA15A",
           "#19d3f3",
           "#FF6692",
           "#B6E880",
           "#FF97FF",
           "#FECB52"
          ],
          "font": {
           "color": "#f2f5fa"
          },
          "geo": {
           "bgcolor": "rgb(17,17,17)",
           "lakecolor": "rgb(17,17,17)",
           "landcolor": "rgb(17,17,17)",
           "showlakes": true,
           "showland": true,
           "subunitcolor": "#506784"
          },
          "hoverlabel": {
           "align": "left"
          },
          "hovermode": "closest",
          "mapbox": {
           "style": "dark"
          },
          "paper_bgcolor": "rgb(17,17,17)",
          "plot_bgcolor": "rgb(17,17,17)",
          "polar": {
           "angularaxis": {
            "gridcolor": "#506784",
            "linecolor": "#506784",
            "ticks": ""
           },
           "bgcolor": "rgb(17,17,17)",
           "radialaxis": {
            "gridcolor": "#506784",
            "linecolor": "#506784",
            "ticks": ""
           }
          },
          "scene": {
           "xaxis": {
            "backgroundcolor": "rgb(17,17,17)",
            "gridcolor": "#506784",
            "gridwidth": 2,
            "linecolor": "#506784",
            "showbackground": true,
            "ticks": "",
            "zerolinecolor": "#C8D4E3"
           },
           "yaxis": {
            "backgroundcolor": "rgb(17,17,17)",
            "gridcolor": "#506784",
            "gridwidth": 2,
            "linecolor": "#506784",
            "showbackground": true,
            "ticks": "",
            "zerolinecolor": "#C8D4E3"
           },
           "zaxis": {
            "backgroundcolor": "rgb(17,17,17)",
            "gridcolor": "#506784",
            "gridwidth": 2,
            "linecolor": "#506784",
            "showbackground": true,
            "ticks": "",
            "zerolinecolor": "#C8D4E3"
           }
          },
          "shapedefaults": {
           "line": {
            "color": "#f2f5fa"
           }
          },
          "sliderdefaults": {
           "bgcolor": "#C8D4E3",
           "bordercolor": "rgb(17,17,17)",
           "borderwidth": 1,
           "tickwidth": 0
          },
          "ternary": {
           "aaxis": {
            "gridcolor": "#506784",
            "linecolor": "#506784",
            "ticks": ""
           },
           "baxis": {
            "gridcolor": "#506784",
            "linecolor": "#506784",
            "ticks": ""
           },
           "bgcolor": "rgb(17,17,17)",
           "caxis": {
            "gridcolor": "#506784",
            "linecolor": "#506784",
            "ticks": ""
           }
          },
          "title": {
           "x": 0.05
          },
          "updatemenudefaults": {
           "bgcolor": "#506784",
           "borderwidth": 0
          },
          "xaxis": {
           "automargin": true,
           "gridcolor": "#283442",
           "linecolor": "#506784",
           "ticks": "",
           "title": {
            "standoff": 15
           },
           "zerolinecolor": "#283442",
           "zerolinewidth": 2
          },
          "yaxis": {
           "automargin": true,
           "gridcolor": "#283442",
           "linecolor": "#506784",
           "ticks": "",
           "title": {
            "standoff": 15
           },
           "zerolinecolor": "#283442",
           "zerolinewidth": 2
          }
         }
        }
       }
      },
      "text/html": [
       "<div>\n",
       "        \n",
       "        \n",
       "            <div id=\"cef3ba73-ab88-4770-86f7-dbae94bb6c6b\" class=\"plotly-graph-div\" style=\"height:525px; width:100%;\"></div>\n",
       "            <script type=\"text/javascript\">\n",
       "                require([\"plotly\"], function(Plotly) {\n",
       "                    window.PLOTLYENV=window.PLOTLYENV || {};\n",
       "                    \n",
       "                if (document.getElementById(\"cef3ba73-ab88-4770-86f7-dbae94bb6c6b\")) {\n",
       "                    Plotly.newPlot(\n",
       "                        'cef3ba73-ab88-4770-86f7-dbae94bb6c6b',\n",
       "                        [{\"customdata\": [[5197118, 166026, 1753760, \"US\"], [3164785, 104201, 2506228, \"Brazil\"], [2396637, 47033, 1695982, \"India\"], [900745, 15231, 708900, \"Russia\"], [568919, 11010, 432029, \"South Africa\"], [498380, 54666, 401182, \"Mexico\"], [489680, 21501, 341938, \"Peru\"], [422519, 13837, 239785, \"Colombia\"], [378168, 10205, 351419, \"Chile\"], [333699, 18988, 290244, \"Iran\"], [329784, 28579, 150376, \"Spain\"], [315581, 46791, 1472, \"United Kingdom\"], [293037, 3269, 257269, \"Saudi Arabia\"], [285921, 6129, 263193, \"Pakistan\"], [268574, 5213, 187283, \"Argentina\"], [266498, 3513, 153089, \"Bangladesh\"], [251713, 35225, 202697, \"Italy\"], [244392, 5891, 227089, \"Turkey\"], [244088, 30375, 83609, \"France\"], [220859, 9213, 198991, \"Germany\"], [160436, 5588, 114541, \"Iraq\"], [143749, 2404, 68997, \"Philippines\"], [130718, 5903, 85798, \"Indonesia\"], [122703, 9052, 108829, \"Canada\"], [113938, 190, 110627, \"Qatar\"], [101372, 1269, 76756, \"Kazakhstan\"], [97110, 5984, 78887, \"Ecuador\"], [95963, 5085, 55901, \"Egypt\"], [95071, 3827, 32830, \"Bolivia\"], [89045, 4697, 82633, \"China\"], [88151, 639, 62109, \"Israel\"], [86504, 1999, 47084, \"Ukraine\"], [83455, 5774, 0, \"Sweden\"], [82299, 539, 77072, \"Oman\"], [82224, 1371, 47095, \"Dominican Republic\"], [77377, 1703, 51597, \"Panama\"], [75647, 9900, 17883, \"Belgium\"], [73785, 489, 65451, \"Kuwait\"], [69102, 595, 65893, \"Belarus\"], [65177, 2807, 31048, \"Romania\"], [63212, 358, 57193, \"United Arab Emirates\"], [61718, 6182, 253, \"Netherlands\"], [59089, 2267, 47394, \"Guatemala\"], [55395, 27, 50520, \"Singapore\"], [53676, 1830, 37611, \"Poland\"], [53223, 1764, 38940, \"Portugal\"], [51288, 1066, 34969, \"Japan\"], [48657, 1533, 6945, \"Honduras\"], [47743, 956, 33943, \"Nigeria\"], [45264, 166, 41836, \"Bahrain\"], [41572, 223, 39320, \"Ghana\"], [40794, 806, 33492, \"Armenia\"], [40759, 1484, 32997, \"Kyrgyzstan\"], [37345, 1354, 26694, \"Afghanistan\"], [37169, 1991, 32700, \"Switzerland\"], [36699, 1333, 25627, \"Algeria\"], [36694, 556, 25677, \"Morocco\"], [33824, 497, 31058, \"Azerbaijan\"], [32654, 211, 25659, \"Uzbekistan\"], [29088, 247, 21042, \"Venezuela\"], [28751, 658, 0, \"Serbia\"], [28697, 863, 19998, \"Moldova\"], [28104, 456, 14610, \"Kenya\"], [26838, 1774, 23364, \"Ireland\"], [25118, 463, 11034, \"Ethiopia\"], [25057, 263, 8189, \"Costa Rica\"], [24432, 91, 16728, \"Nepal\"], [22439, 724, 20268, \"Austria\"], [22358, 361, 12779, \"Australia\"], [21644, 577, 10056, \"El Salvador\"], [19075, 391, 13407, \"Czechia\"], [18263, 401, 15320, \"Cameroon\"], [16847, 105, 13321, \"Cote d'Ivoire\"], [15423, 621, 13305, \"Denmark\"], [15184, 105, 8369, \"West Bank and Gaza\"], [14961, 453, 8827, \"Bosnia and Herzegovina\"], [14770, 305, 13817, \"Korea, South\"], [13893, 482, 8479, \"Bulgaria\"], [13397, 156, 11529, \"Madagascar\"], [12217, 530, 8487, \"North Macedonia\"], [12033, 786, 6282, \"Sudan\"], [11587, 242, 7523, \"Senegal\"], [10419, 341, 6058, \"Kosovo\"], [9783, 256, 8857, \"Norway\"], [9538, 225, 8421, \"Congo (Kinshasa)\"], [9114, 125, 8817, \"Malaysia\"], [8501, 246, 7233, \"Zambia\"], [8116, 50, 7060, \"Guinea\"], [8077, 51, 5920, \"Gabon\"], [8018, 93, 5384, \"Paraguay\"], [7912, 63, 6696, \"Tajikistan\"], [7743, 187, 5123, \"Haiti\"], [7642, 333, 7050, \"Finland\"], [7413, 89, 2407, \"Lebanon\"], [7300, 122, 6262, \"Luxembourg\"], [6817, 208, 3552, \"Albania\"], [6622, 157, 5741, \"Mauritania\"], [6611, 132, 778, \"Libya\"], [6177, 216, 1347, \"Greece\"], [5870, 160, 5024, \"Croatia\"], [5366, 21, 2884, \"Maldives\"], [5358, 59, 5150, \"Djibouti\"], [4893, 122, 1620, \"Zimbabwe\"], [4821, 83, 2182, \"Equatorial Guinea\"], [4768, 605, 3529, \"Hungary\"], [4752, 152, 2529, \"Malawi\"], [4652, 61, 1728, \"Central African Republic\"], [4115, 128, 2913, \"Nicaragua\"], [3813, 73, 2638, \"Montenegro\"], [3745, 60, 1625, \"Congo (Brazzaville)\"], [3525, 63, 1910, \"Eswatini\"], [3406, 22, 835, \"Namibia\"], [3356, 58, 3169, \"Thailand\"], [3227, 93, 1728, \"Somalia\"], [3128, 88, 2504, \"Cuba\"], [3000, 33, 2172, \"Cabo Verde\"], [2881, 11, 2638, \"Sri Lanka\"], [2690, 31, 1884, \"Slovakia\"], [2653, 39, 1789, \"Suriname\"], [2582, 125, 1977, \"Mali\"], [2559, 19, 951, \"Mozambique\"], [2477, 47, 1175, \"South Sudan\"], [2309, 81, 1683, \"Lithuania\"], [2303, 129, 1960, \"Slovenia\"], [2189, 8, 1524, \"Rwanda\"], [2174, 63, 1975, \"Estonia\"], [2088, 29, 1015, \"Guinea-Bissau\"], [2014, 38, 1681, \"Benin\"], [1972, 10, 1847, \"Iceland\"], [1937, 69, 1483, \"Sierra Leone\"], [1841, 528, 937, \"Yemen\"], [1780, 52, 1278, \"Tunisia\"], [1762, 80, 577, \"Angola\"], [1589, 22, 1531, \"New Zealand\"], [1477, 33, 247, \"Gambia\"], [1393, 37, 1163, \"Uruguay\"], [1332, 9, 1139, \"Uganda\"], [1327, 53, 385, \"Syria\"], [1303, 32, 1078, \"Latvia\"], [1303, 11, 1215, \"Jordan\"], [1291, 20, 870, \"Cyprus\"], [1278, 17, 1058, \"Georgia\"], [1252, 82, 738, \"Liberia\"], [1213, 54, 995, \"Burkina Faso\"], [1190, 9, 695, \"Malta\"], [1161, 69, 1075, \"Niger\"], [1092, 26, 782, \"Togo\"], [1066, 2, 80, \"Botswana\"], [1065, 14, 753, \"Jamaica\"], [1036, 15, 122, \"Bahamas\"], [977, 53, 855, \"Andorra\"], [949, 76, 859, \"Chad\"], [883, 18, 409, \"Vietnam\"], [882, 15, 807, \"Sao Tome and Principe\"], [798, 24, 175, \"Lesotho\"], [712, 13, 651, \"Diamond Princess\"], [699, 42, 657, \"San Marino\"], [623, 22, 191, \"Guyana\"], [509, 21, 183, \"Tanzania\"], [481, 7, 450, \"Taiwan*\"], [409, 1, 315, \"Burundi\"], [399, 7, 379, \"Comoros\"], [361, 6, 318, \"Burma\"], [344, 10, 334, \"Mauritius\"], [326, 8, 139, \"Trinidad and Tobago\"], [297, 0, 269, \"Mongolia\"], [287, 3, 78, \"Papua New Guinea\"], [285, 0, 248, \"Eritrea\"], [272, 0, 223, \"Cambodia\"], [210, 2, 32, \"Belize\"], [144, 7, 115, \"Barbados\"], [142, 3, 138, \"Brunei\"], [141, 4, 114, \"Monaco\"], [127, 0, 126, \"Seychelles\"], [113, 0, 97, \"Bhutan\"], [92, 3, 76, \"Antigua and Barbuda\"], [90, 1, 87, \"Liechtenstein\"], [57, 0, 52, \"Saint Vincent and the Grenadines\"], [27, 1, 18, \"Fiji\"], [25, 0, 25, \"Saint Lucia\"], [25, 0, 24, \"Timor-Leste\"], [24, 0, 23, \"Grenada\"], [20, 0, 19, \"Laos\"], [18, 0, 18, \"Dominica\"], [17, 0, 17, \"Saint Kitts and Nevis\"], [12, 0, 12, \"Holy See\"], [10, 1, 8, \"Western Sahara\"], [9, 2, 0, \"MS Zaandam\"]], \"geo\": \"geo\", \"hovertemplate\": \"<b>%{hovertext}</b><br><br>Confirmed=%{marker.color:,2f}<br>Deaths=%{customdata[1]:,2f}<br>Recovered=%{customdata[2]:,2f}<extra></extra>\", \"hovertext\": [\"US\", \"Brazil\", \"India\", \"Russia\", \"South Africa\", \"Mexico\", \"Peru\", \"Colombia\", \"Chile\", \"Iran\", \"Spain\", \"United Kingdom\", \"Saudi Arabia\", \"Pakistan\", \"Argentina\", \"Bangladesh\", \"Italy\", \"Turkey\", \"France\", \"Germany\", \"Iraq\", \"Philippines\", \"Indonesia\", \"Canada\", \"Qatar\", \"Kazakhstan\", \"Ecuador\", \"Egypt\", \"Bolivia\", \"China\", \"Israel\", \"Ukraine\", \"Sweden\", \"Oman\", \"Dominican Republic\", \"Panama\", \"Belgium\", \"Kuwait\", \"Belarus\", \"Romania\", \"United Arab Emirates\", \"Netherlands\", \"Guatemala\", \"Singapore\", \"Poland\", \"Portugal\", \"Japan\", \"Honduras\", \"Nigeria\", \"Bahrain\", \"Ghana\", \"Armenia\", \"Kyrgyzstan\", \"Afghanistan\", \"Switzerland\", \"Algeria\", \"Morocco\", \"Azerbaijan\", \"Uzbekistan\", \"Venezuela\", \"Serbia\", \"Moldova\", \"Kenya\", \"Ireland\", \"Ethiopia\", \"Costa Rica\", \"Nepal\", \"Austria\", \"Australia\", \"El Salvador\", \"Czechia\", \"Cameroon\", \"Cote d'Ivoire\", \"Denmark\", \"West Bank and Gaza\", \"Bosnia and Herzegovina\", \"Korea, South\", \"Bulgaria\", \"Madagascar\", \"North Macedonia\", \"Sudan\", \"Senegal\", \"Kosovo\", \"Norway\", \"Congo (Kinshasa)\", \"Malaysia\", \"Zambia\", \"Guinea\", \"Gabon\", \"Paraguay\", \"Tajikistan\", \"Haiti\", \"Finland\", \"Lebanon\", \"Luxembourg\", \"Albania\", \"Mauritania\", \"Libya\", \"Greece\", \"Croatia\", \"Maldives\", \"Djibouti\", \"Zimbabwe\", \"Equatorial Guinea\", \"Hungary\", \"Malawi\", \"Central African Republic\", \"Nicaragua\", \"Montenegro\", \"Congo (Brazzaville)\", \"Eswatini\", \"Namibia\", \"Thailand\", \"Somalia\", \"Cuba\", \"Cabo Verde\", \"Sri Lanka\", \"Slovakia\", \"Suriname\", \"Mali\", \"Mozambique\", \"South Sudan\", \"Lithuania\", \"Slovenia\", \"Rwanda\", \"Estonia\", \"Guinea-Bissau\", \"Benin\", \"Iceland\", \"Sierra Leone\", \"Yemen\", \"Tunisia\", \"Angola\", \"New Zealand\", \"Gambia\", \"Uruguay\", \"Uganda\", \"Syria\", \"Latvia\", \"Jordan\", \"Cyprus\", \"Georgia\", \"Liberia\", \"Burkina Faso\", \"Malta\", \"Niger\", \"Togo\", \"Botswana\", \"Jamaica\", \"Bahamas\", \"Andorra\", \"Chad\", \"Vietnam\", \"Sao Tome and Principe\", \"Lesotho\", \"Diamond Princess\", \"San Marino\", \"Guyana\", \"Tanzania\", \"Taiwan*\", \"Burundi\", \"Comoros\", \"Burma\", \"Mauritius\", \"Trinidad and Tobago\", \"Mongolia\", \"Papua New Guinea\", \"Eritrea\", \"Cambodia\", \"Belize\", \"Barbados\", \"Brunei\", \"Monaco\", \"Seychelles\", \"Bhutan\", \"Antigua and Barbuda\", \"Liechtenstein\", \"Saint Vincent and the Grenadines\", \"Fiji\", \"Saint Lucia\", \"Timor-Leste\", \"Grenada\", \"Laos\", \"Dominica\", \"Saint Kitts and Nevis\", \"Holy See\", \"Western Sahara\", \"MS Zaandam\"], \"legendgroup\": \"\", \"locationmode\": \"country names\", \"locations\": [\"US\", \"Brazil\", \"India\", \"Russia\", \"South Africa\", \"Mexico\", \"Peru\", \"Colombia\", \"Chile\", \"Iran\", \"Spain\", \"United Kingdom\", \"Saudi Arabia\", \"Pakistan\", \"Argentina\", \"Bangladesh\", \"Italy\", \"Turkey\", \"France\", \"Germany\", \"Iraq\", \"Philippines\", \"Indonesia\", \"Canada\", \"Qatar\", \"Kazakhstan\", \"Ecuador\", \"Egypt\", \"Bolivia\", \"China\", \"Israel\", \"Ukraine\", \"Sweden\", \"Oman\", \"Dominican Republic\", \"Panama\", \"Belgium\", \"Kuwait\", \"Belarus\", \"Romania\", \"United Arab Emirates\", \"Netherlands\", \"Guatemala\", \"Singapore\", \"Poland\", \"Portugal\", \"Japan\", \"Honduras\", \"Nigeria\", \"Bahrain\", \"Ghana\", \"Armenia\", \"Kyrgyzstan\", \"Afghanistan\", \"Switzerland\", \"Algeria\", \"Morocco\", \"Azerbaijan\", \"Uzbekistan\", \"Venezuela\", \"Serbia\", \"Moldova\", \"Kenya\", \"Ireland\", \"Ethiopia\", \"Costa Rica\", \"Nepal\", \"Austria\", \"Australia\", \"El Salvador\", \"Czechia\", \"Cameroon\", \"Cote d'Ivoire\", \"Denmark\", \"West Bank and Gaza\", \"Bosnia and Herzegovina\", \"Korea, South\", \"Bulgaria\", \"Madagascar\", \"North Macedonia\", \"Sudan\", \"Senegal\", \"Kosovo\", \"Norway\", \"Congo (Kinshasa)\", \"Malaysia\", \"Zambia\", \"Guinea\", \"Gabon\", \"Paraguay\", \"Tajikistan\", \"Haiti\", \"Finland\", \"Lebanon\", \"Luxembourg\", \"Albania\", \"Mauritania\", \"Libya\", \"Greece\", \"Croatia\", \"Maldives\", \"Djibouti\", \"Zimbabwe\", \"Equatorial Guinea\", \"Hungary\", \"Malawi\", \"Central African Republic\", \"Nicaragua\", \"Montenegro\", \"Congo (Brazzaville)\", \"Eswatini\", \"Namibia\", \"Thailand\", \"Somalia\", \"Cuba\", \"Cabo Verde\", \"Sri Lanka\", \"Slovakia\", \"Suriname\", \"Mali\", \"Mozambique\", \"South Sudan\", \"Lithuania\", \"Slovenia\", \"Rwanda\", \"Estonia\", \"Guinea-Bissau\", \"Benin\", \"Iceland\", \"Sierra Leone\", \"Yemen\", \"Tunisia\", \"Angola\", \"New Zealand\", \"Gambia\", \"Uruguay\", \"Uganda\", \"Syria\", \"Latvia\", \"Jordan\", \"Cyprus\", \"Georgia\", \"Liberia\", \"Burkina Faso\", \"Malta\", \"Niger\", \"Togo\", \"Botswana\", \"Jamaica\", \"Bahamas\", \"Andorra\", \"Chad\", \"Vietnam\", \"Sao Tome and Principe\", \"Lesotho\", \"Diamond Princess\", \"San Marino\", \"Guyana\", \"Tanzania\", \"Taiwan*\", \"Burundi\", \"Comoros\", \"Burma\", \"Mauritius\", \"Trinidad and Tobago\", \"Mongolia\", \"Papua New Guinea\", \"Eritrea\", \"Cambodia\", \"Belize\", \"Barbados\", \"Brunei\", \"Monaco\", \"Seychelles\", \"Bhutan\", \"Antigua and Barbuda\", \"Liechtenstein\", \"Saint Vincent and the Grenadines\", \"Fiji\", \"Saint Lucia\", \"Timor-Leste\", \"Grenada\", \"Laos\", \"Dominica\", \"Saint Kitts and Nevis\", \"Holy See\", \"Western Sahara\", \"MS Zaandam\"], \"marker\": {\"color\": [5197118, 3164785, 2396637, 900745, 568919, 498380, 489680, 422519, 378168, 333699, 329784, 315581, 293037, 285921, 268574, 266498, 251713, 244392, 244088, 220859, 160436, 143749, 130718, 122703, 113938, 101372, 97110, 95963, 95071, 89045, 88151, 86504, 83455, 82299, 82224, 77377, 75647, 73785, 69102, 65177, 63212, 61718, 59089, 55395, 53676, 53223, 51288, 48657, 47743, 45264, 41572, 40794, 40759, 37345, 37169, 36699, 36694, 33824, 32654, 29088, 28751, 28697, 28104, 26838, 25118, 25057, 24432, 22439, 22358, 21644, 19075, 18263, 16847, 15423, 15184, 14961, 14770, 13893, 13397, 12217, 12033, 11587, 10419, 9783, 9538, 9114, 8501, 8116, 8077, 8018, 7912, 7743, 7642, 7413, 7300, 6817, 6622, 6611, 6177, 5870, 5366, 5358, 4893, 4821, 4768, 4752, 4652, 4115, 3813, 3745, 3525, 3406, 3356, 3227, 3128, 3000, 2881, 2690, 2653, 2582, 2559, 2477, 2309, 2303, 2189, 2174, 2088, 2014, 1972, 1937, 1841, 1780, 1762, 1589, 1477, 1393, 1332, 1327, 1303, 1303, 1291, 1278, 1252, 1213, 1190, 1161, 1092, 1066, 1065, 1036, 977, 949, 883, 882, 798, 712, 699, 623, 509, 481, 409, 399, 361, 344, 326, 297, 287, 285, 272, 210, 144, 142, 141, 127, 113, 92, 90, 57, 27, 25, 25, 24, 20, 18, 17, 12, 10, 9], \"coloraxis\": \"coloraxis\", \"size\": [5197118, 3164785, 2396637, 900745, 568919, 498380, 489680, 422519, 378168, 333699, 329784, 315581, 293037, 285921, 268574, 266498, 251713, 244392, 244088, 220859, 160436, 143749, 130718, 122703, 113938, 101372, 97110, 95963, 95071, 89045, 88151, 86504, 83455, 82299, 82224, 77377, 75647, 73785, 69102, 65177, 63212, 61718, 59089, 55395, 53676, 53223, 51288, 48657, 47743, 45264, 41572, 40794, 40759, 37345, 37169, 36699, 36694, 33824, 32654, 29088, 28751, 28697, 28104, 26838, 25118, 25057, 24432, 22439, 22358, 21644, 19075, 18263, 16847, 15423, 15184, 14961, 14770, 13893, 13397, 12217, 12033, 11587, 10419, 9783, 9538, 9114, 8501, 8116, 8077, 8018, 7912, 7743, 7642, 7413, 7300, 6817, 6622, 6611, 6177, 5870, 5366, 5358, 4893, 4821, 4768, 4752, 4652, 4115, 3813, 3745, 3525, 3406, 3356, 3227, 3128, 3000, 2881, 2690, 2653, 2582, 2559, 2477, 2309, 2303, 2189, 2174, 2088, 2014, 1972, 1937, 1841, 1780, 1762, 1589, 1477, 1393, 1332, 1327, 1303, 1303, 1291, 1278, 1252, 1213, 1190, 1161, 1092, 1066, 1065, 1036, 977, 949, 883, 882, 798, 712, 699, 623, 509, 481, 409, 399, 361, 344, 326, 297, 287, 285, 272, 210, 144, 142, 141, 127, 113, 92, 90, 57, 27, 25, 25, 24, 20, 18, 17, 12, 10, 9], \"sizemode\": \"area\", \"sizeref\": 3248.19875}, \"name\": \"\", \"showlegend\": false, \"type\": \"scattergeo\"}],\n",
       "                        {\"coloraxis\": {\"colorbar\": {\"title\": {\"text\": \"Confirmed\"}}, \"colorscale\": [[0.0, \"#0d0887\"], [0.1111111111111111, \"#46039f\"], [0.2222222222222222, \"#7201a8\"], [0.3333333333333333, \"#9c179e\"], [0.4444444444444444, \"#bd3786\"], [0.5555555555555556, \"#d8576b\"], [0.6666666666666666, \"#ed7953\"], [0.7777777777777778, \"#fb9f3a\"], [0.8888888888888888, \"#fdca26\"], [1.0, \"#f0f921\"]]}, \"geo\": {\"center\": {}, \"domain\": {\"x\": [0.0, 1.0], \"y\": [0.0, 1.0]}}, \"legend\": {\"itemsizing\": \"constant\", \"tracegroupgap\": 0}, \"margin\": {\"t\": 60}, \"template\": {\"data\": {\"bar\": [{\"error_x\": {\"color\": \"#f2f5fa\"}, \"error_y\": {\"color\": \"#f2f5fa\"}, \"marker\": {\"line\": {\"color\": \"rgb(17,17,17)\", \"width\": 0.5}}, \"type\": \"bar\"}], \"barpolar\": [{\"marker\": {\"line\": {\"color\": \"rgb(17,17,17)\", \"width\": 0.5}}, \"type\": \"barpolar\"}], \"carpet\": [{\"aaxis\": {\"endlinecolor\": \"#A2B1C6\", \"gridcolor\": \"#506784\", \"linecolor\": \"#506784\", \"minorgridcolor\": \"#506784\", \"startlinecolor\": \"#A2B1C6\"}, \"baxis\": {\"endlinecolor\": \"#A2B1C6\", \"gridcolor\": \"#506784\", \"linecolor\": \"#506784\", \"minorgridcolor\": \"#506784\", \"startlinecolor\": \"#A2B1C6\"}, \"type\": \"carpet\"}], \"choropleth\": [{\"colorbar\": {\"outlinewidth\": 0, \"ticks\": \"\"}, \"type\": \"choropleth\"}], \"contour\": [{\"colorbar\": {\"outlinewidth\": 0, \"ticks\": \"\"}, \"colorscale\": [[0.0, \"#0d0887\"], [0.1111111111111111, \"#46039f\"], [0.2222222222222222, \"#7201a8\"], [0.3333333333333333, \"#9c179e\"], [0.4444444444444444, \"#bd3786\"], [0.5555555555555556, \"#d8576b\"], [0.6666666666666666, \"#ed7953\"], [0.7777777777777778, \"#fb9f3a\"], [0.8888888888888888, \"#fdca26\"], [1.0, \"#f0f921\"]], \"type\": \"contour\"}], \"contourcarpet\": [{\"colorbar\": {\"outlinewidth\": 0, \"ticks\": \"\"}, \"type\": \"contourcarpet\"}], \"heatmap\": [{\"colorbar\": {\"outlinewidth\": 0, \"ticks\": \"\"}, \"colorscale\": [[0.0, \"#0d0887\"], [0.1111111111111111, \"#46039f\"], [0.2222222222222222, \"#7201a8\"], [0.3333333333333333, \"#9c179e\"], [0.4444444444444444, \"#bd3786\"], [0.5555555555555556, \"#d8576b\"], [0.6666666666666666, \"#ed7953\"], [0.7777777777777778, \"#fb9f3a\"], [0.8888888888888888, \"#fdca26\"], [1.0, \"#f0f921\"]], \"type\": \"heatmap\"}], \"heatmapgl\": [{\"colorbar\": {\"outlinewidth\": 0, \"ticks\": \"\"}, \"colorscale\": [[0.0, \"#0d0887\"], [0.1111111111111111, \"#46039f\"], [0.2222222222222222, \"#7201a8\"], [0.3333333333333333, \"#9c179e\"], [0.4444444444444444, \"#bd3786\"], [0.5555555555555556, \"#d8576b\"], [0.6666666666666666, \"#ed7953\"], [0.7777777777777778, \"#fb9f3a\"], [0.8888888888888888, \"#fdca26\"], [1.0, \"#f0f921\"]], \"type\": \"heatmapgl\"}], \"histogram\": [{\"marker\": {\"colorbar\": {\"outlinewidth\": 0, \"ticks\": \"\"}}, \"type\": \"histogram\"}], \"histogram2d\": [{\"colorbar\": {\"outlinewidth\": 0, \"ticks\": \"\"}, \"colorscale\": [[0.0, \"#0d0887\"], [0.1111111111111111, \"#46039f\"], [0.2222222222222222, \"#7201a8\"], [0.3333333333333333, \"#9c179e\"], [0.4444444444444444, \"#bd3786\"], [0.5555555555555556, \"#d8576b\"], [0.6666666666666666, \"#ed7953\"], [0.7777777777777778, \"#fb9f3a\"], [0.8888888888888888, \"#fdca26\"], [1.0, \"#f0f921\"]], \"type\": \"histogram2d\"}], \"histogram2dcontour\": [{\"colorbar\": {\"outlinewidth\": 0, \"ticks\": \"\"}, \"colorscale\": [[0.0, \"#0d0887\"], [0.1111111111111111, \"#46039f\"], [0.2222222222222222, \"#7201a8\"], [0.3333333333333333, \"#9c179e\"], [0.4444444444444444, \"#bd3786\"], [0.5555555555555556, \"#d8576b\"], [0.6666666666666666, \"#ed7953\"], [0.7777777777777778, \"#fb9f3a\"], [0.8888888888888888, \"#fdca26\"], [1.0, \"#f0f921\"]], \"type\": \"histogram2dcontour\"}], \"mesh3d\": [{\"colorbar\": {\"outlinewidth\": 0, \"ticks\": \"\"}, \"type\": \"mesh3d\"}], \"parcoords\": [{\"line\": {\"colorbar\": {\"outlinewidth\": 0, \"ticks\": \"\"}}, \"type\": \"parcoords\"}], \"pie\": [{\"automargin\": true, \"type\": \"pie\"}], \"scatter\": [{\"marker\": {\"line\": {\"color\": \"#283442\"}}, \"type\": \"scatter\"}], \"scatter3d\": [{\"line\": {\"colorbar\": {\"outlinewidth\": 0, \"ticks\": \"\"}}, \"marker\": {\"colorbar\": {\"outlinewidth\": 0, \"ticks\": \"\"}}, \"type\": \"scatter3d\"}], \"scattercarpet\": [{\"marker\": {\"colorbar\": {\"outlinewidth\": 0, \"ticks\": \"\"}}, \"type\": \"scattercarpet\"}], \"scattergeo\": [{\"marker\": {\"colorbar\": {\"outlinewidth\": 0, \"ticks\": \"\"}}, \"type\": \"scattergeo\"}], \"scattergl\": [{\"marker\": {\"line\": {\"color\": \"#283442\"}}, \"type\": \"scattergl\"}], \"scattermapbox\": [{\"marker\": {\"colorbar\": {\"outlinewidth\": 0, \"ticks\": \"\"}}, \"type\": \"scattermapbox\"}], \"scatterpolar\": [{\"marker\": {\"colorbar\": {\"outlinewidth\": 0, \"ticks\": \"\"}}, \"type\": \"scatterpolar\"}], \"scatterpolargl\": [{\"marker\": {\"colorbar\": {\"outlinewidth\": 0, \"ticks\": \"\"}}, \"type\": \"scatterpolargl\"}], \"scatterternary\": [{\"marker\": {\"colorbar\": {\"outlinewidth\": 0, \"ticks\": \"\"}}, \"type\": \"scatterternary\"}], \"surface\": [{\"colorbar\": {\"outlinewidth\": 0, \"ticks\": \"\"}, \"colorscale\": [[0.0, \"#0d0887\"], [0.1111111111111111, \"#46039f\"], [0.2222222222222222, \"#7201a8\"], [0.3333333333333333, \"#9c179e\"], [0.4444444444444444, \"#bd3786\"], [0.5555555555555556, \"#d8576b\"], [0.6666666666666666, \"#ed7953\"], [0.7777777777777778, \"#fb9f3a\"], [0.8888888888888888, \"#fdca26\"], [1.0, \"#f0f921\"]], \"type\": \"surface\"}], \"table\": [{\"cells\": {\"fill\": {\"color\": \"#506784\"}, \"line\": {\"color\": \"rgb(17,17,17)\"}}, \"header\": {\"fill\": {\"color\": \"#2a3f5f\"}, \"line\": {\"color\": \"rgb(17,17,17)\"}}, \"type\": \"table\"}]}, \"layout\": {\"annotationdefaults\": {\"arrowcolor\": \"#f2f5fa\", \"arrowhead\": 0, \"arrowwidth\": 1}, \"coloraxis\": {\"colorbar\": {\"outlinewidth\": 0, \"ticks\": \"\"}}, \"colorscale\": {\"diverging\": [[0, \"#8e0152\"], [0.1, \"#c51b7d\"], [0.2, \"#de77ae\"], [0.3, \"#f1b6da\"], [0.4, \"#fde0ef\"], [0.5, \"#f7f7f7\"], [0.6, \"#e6f5d0\"], [0.7, \"#b8e186\"], [0.8, \"#7fbc41\"], [0.9, \"#4d9221\"], [1, \"#276419\"]], \"sequential\": [[0.0, \"#0d0887\"], [0.1111111111111111, \"#46039f\"], [0.2222222222222222, \"#7201a8\"], [0.3333333333333333, \"#9c179e\"], [0.4444444444444444, \"#bd3786\"], [0.5555555555555556, \"#d8576b\"], [0.6666666666666666, \"#ed7953\"], [0.7777777777777778, \"#fb9f3a\"], [0.8888888888888888, \"#fdca26\"], [1.0, \"#f0f921\"]], \"sequentialminus\": [[0.0, \"#0d0887\"], [0.1111111111111111, \"#46039f\"], [0.2222222222222222, \"#7201a8\"], [0.3333333333333333, \"#9c179e\"], [0.4444444444444444, \"#bd3786\"], [0.5555555555555556, \"#d8576b\"], [0.6666666666666666, \"#ed7953\"], [0.7777777777777778, \"#fb9f3a\"], [0.8888888888888888, \"#fdca26\"], [1.0, \"#f0f921\"]]}, \"colorway\": [\"#636efa\", \"#EF553B\", \"#00cc96\", \"#ab63fa\", \"#FFA15A\", \"#19d3f3\", \"#FF6692\", \"#B6E880\", \"#FF97FF\", \"#FECB52\"], \"font\": {\"color\": \"#f2f5fa\"}, \"geo\": {\"bgcolor\": \"rgb(17,17,17)\", \"lakecolor\": \"rgb(17,17,17)\", \"landcolor\": \"rgb(17,17,17)\", \"showlakes\": true, \"showland\": true, \"subunitcolor\": \"#506784\"}, \"hoverlabel\": {\"align\": \"left\"}, \"hovermode\": \"closest\", \"mapbox\": {\"style\": \"dark\"}, \"paper_bgcolor\": \"rgb(17,17,17)\", \"plot_bgcolor\": \"rgb(17,17,17)\", \"polar\": {\"angularaxis\": {\"gridcolor\": \"#506784\", \"linecolor\": \"#506784\", \"ticks\": \"\"}, \"bgcolor\": \"rgb(17,17,17)\", \"radialaxis\": {\"gridcolor\": \"#506784\", \"linecolor\": \"#506784\", \"ticks\": \"\"}}, \"scene\": {\"xaxis\": {\"backgroundcolor\": \"rgb(17,17,17)\", \"gridcolor\": \"#506784\", \"gridwidth\": 2, \"linecolor\": \"#506784\", \"showbackground\": true, \"ticks\": \"\", \"zerolinecolor\": \"#C8D4E3\"}, \"yaxis\": {\"backgroundcolor\": \"rgb(17,17,17)\", \"gridcolor\": \"#506784\", \"gridwidth\": 2, \"linecolor\": \"#506784\", \"showbackground\": true, \"ticks\": \"\", \"zerolinecolor\": \"#C8D4E3\"}, \"zaxis\": {\"backgroundcolor\": \"rgb(17,17,17)\", \"gridcolor\": \"#506784\", \"gridwidth\": 2, \"linecolor\": \"#506784\", \"showbackground\": true, \"ticks\": \"\", \"zerolinecolor\": \"#C8D4E3\"}}, \"shapedefaults\": {\"line\": {\"color\": \"#f2f5fa\"}}, \"sliderdefaults\": {\"bgcolor\": \"#C8D4E3\", \"bordercolor\": \"rgb(17,17,17)\", \"borderwidth\": 1, \"tickwidth\": 0}, \"ternary\": {\"aaxis\": {\"gridcolor\": \"#506784\", \"linecolor\": \"#506784\", \"ticks\": \"\"}, \"baxis\": {\"gridcolor\": \"#506784\", \"linecolor\": \"#506784\", \"ticks\": \"\"}, \"bgcolor\": \"rgb(17,17,17)\", \"caxis\": {\"gridcolor\": \"#506784\", \"linecolor\": \"#506784\", \"ticks\": \"\"}}, \"title\": {\"x\": 0.05}, \"updatemenudefaults\": {\"bgcolor\": \"#506784\", \"borderwidth\": 0}, \"xaxis\": {\"automargin\": true, \"gridcolor\": \"#283442\", \"linecolor\": \"#506784\", \"ticks\": \"\", \"title\": {\"standoff\": 15}, \"zerolinecolor\": \"#283442\", \"zerolinewidth\": 2}, \"yaxis\": {\"automargin\": true, \"gridcolor\": \"#283442\", \"linecolor\": \"#506784\", \"ticks\": \"\", \"title\": {\"standoff\": 15}, \"zerolinecolor\": \"#283442\", \"zerolinewidth\": 2}}}},\n",
       "                        {\"responsive\": true}\n",
       "                    ).then(function(){\n",
       "                            \n",
       "var gd = document.getElementById('cef3ba73-ab88-4770-86f7-dbae94bb6c6b');\n",
       "var x = new MutationObserver(function (mutations, observer) {{\n",
       "        var display = window.getComputedStyle(gd).display;\n",
       "        if (!display || display === 'none') {{\n",
       "            console.log([gd, 'removed!']);\n",
       "            Plotly.purge(gd);\n",
       "            observer.disconnect();\n",
       "        }}\n",
       "}});\n",
       "\n",
       "// Listen for the removal of the full notebook cells\n",
       "var notebookContainer = gd.closest('#notebook-container');\n",
       "if (notebookContainer) {{\n",
       "    x.observe(notebookContainer, {childList: true});\n",
       "}}\n",
       "\n",
       "// Listen for the clearing of the current output cell\n",
       "var outputEl = gd.closest('.output');\n",
       "if (outputEl) {{\n",
       "    x.observe(outputEl, {childList: true});\n",
       "}}\n",
       "\n",
       "                        })\n",
       "                };\n",
       "                });\n",
       "            </script>\n",
       "        </div>"
      ]
     },
     "metadata": {},
     "output_type": "display_data"
    }
   ],
   "source": [
    "import plotly.express as px\n",
    "from data import countries_df\n",
    "\n",
    "\n",
    "fig = px.scatter_geo(countries_df,\n",
    "                     size=\"Confirmed\",\n",
    "                     hover_name=\"Country_Region\",\n",
    "                     color=\"Confirmed\",\n",
    "                     locations=\"Country_Region\",\n",
    "                     locationmode=\"country names\",\n",
    "                     size_max=40,\n",
    "                     template=\"plotly_dark\",\n",
    "                     hover_data={\n",
    "                         \"Confirmed\": \":,2f\",\n",
    "                         \"Deaths\":\":,2f\",\n",
    "                         \"Recovered\":\":,2f\",\n",
    "                         \"Country_Region\":False\n",
    "                     })\n",
    "fig.show()"
   ]
  }
 ],
 "metadata": {
  "kernelspec": {
   "display_name": "Python 3",
   "language": "python",
   "name": "python3"
  },
  "language_info": {
   "codemirror_mode": {
    "name": "ipython",
    "version": 3
   },
   "file_extension": ".py",
   "mimetype": "text/x-python",
   "name": "python",
   "nbconvert_exporter": "python",
   "pygments_lexer": "ipython3",
   "version": "3.7.5"
  }
 },
 "nbformat": 4,
 "nbformat_minor": 4
}
